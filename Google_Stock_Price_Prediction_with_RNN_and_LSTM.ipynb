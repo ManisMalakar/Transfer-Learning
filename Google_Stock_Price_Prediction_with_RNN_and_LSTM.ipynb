{
  "nbformat": 4,
  "nbformat_minor": 0,
  "metadata": {
    "colab": {
      "name": "Google Stock Price Prediction with RNN and LSTM.ipynb",
      "provenance": [],
      "authorship_tag": "ABX9TyP7fht5kSRf3AcbtF7cUN7N",
      "include_colab_link": true
    },
    "kernelspec": {
      "name": "python3",
      "display_name": "Python 3"
    }
  },
  "cells": [
    {
      "cell_type": "markdown",
      "metadata": {
        "id": "view-in-github",
        "colab_type": "text"
      },
      "source": [
        "<a href=\"https://colab.research.google.com/github/ManisMalakar/Transfer-Learning/blob/main/Google_Stock_Price_Prediction_with_RNN_and_LSTM.ipynb\" target=\"_parent\"><img src=\"https://colab.research.google.com/assets/colab-badge.svg\" alt=\"Open In Colab\"/></a>"
      ]
    },
    {
      "cell_type": "code",
      "metadata": {
        "id": "L_OvaK36F10K"
      },
      "source": [
        "import tensorflow as tf\n",
        "import pandas as pd\n",
        "import numpy as np\n",
        "import matplotlib.pyplot as plt"
      ],
      "execution_count": 47,
      "outputs": []
    },
    {
      "cell_type": "code",
      "metadata": {
        "colab": {
          "resources": {
            "http://localhost:8080/nbextensions/google.colab/files.js": {
              "data": "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",
              "ok": true,
              "headers": [
                [
                  "content-type",
                  "application/javascript"
                ]
              ],
              "status": 200,
              "status_text": ""
            }
          },
          "base_uri": "https://localhost:8080/",
          "height": 38
        },
        "id": "Q8hBO8DTGAhr",
        "outputId": "0067ccfc-f68a-48eb-e125-50f4c408cfab"
      },
      "source": [
        "#Data PreProcessing\n",
        "\n",
        "#Importing the dataset\n",
        "from google.colab import files\n",
        "uploaded=files.upload()"
      ],
      "execution_count": 48,
      "outputs": [
        {
          "output_type": "display_data",
          "data": {
            "text/html": [
              "\n",
              "     <input type=\"file\" id=\"files-fb6b9616-e1c9-4369-9127-77f09dc20317\" name=\"files[]\" multiple disabled\n",
              "        style=\"border:none\" />\n",
              "     <output id=\"result-fb6b9616-e1c9-4369-9127-77f09dc20317\">\n",
              "      Upload widget is only available when the cell has been executed in the\n",
              "      current browser session. Please rerun this cell to enable.\n",
              "      </output>\n",
              "      <script src=\"/nbextensions/google.colab/files.js\"></script> "
            ],
            "text/plain": [
              "<IPython.core.display.HTML object>"
            ]
          },
          "metadata": {
            "tags": []
          }
        }
      ]
    },
    {
      "cell_type": "code",
      "metadata": {
        "id": "eCOllrBlH9Kn"
      },
      "source": [
        "training_data=pd.read_csv('/content/training_set.csv')"
      ],
      "execution_count": 49,
      "outputs": []
    },
    {
      "cell_type": "code",
      "metadata": {
        "colab": {
          "base_uri": "https://localhost:8080/",
          "height": 204
        },
        "id": "Z7keTVrfIOfw",
        "outputId": "aef03b9c-3a02-4753-9f0b-15d95c24177d"
      },
      "source": [
        "training_data.tail()"
      ],
      "execution_count": 50,
      "outputs": [
        {
          "output_type": "execute_result",
          "data": {
            "text/html": [
              "<div>\n",
              "<style scoped>\n",
              "    .dataframe tbody tr th:only-of-type {\n",
              "        vertical-align: middle;\n",
              "    }\n",
              "\n",
              "    .dataframe tbody tr th {\n",
              "        vertical-align: top;\n",
              "    }\n",
              "\n",
              "    .dataframe thead th {\n",
              "        text-align: right;\n",
              "    }\n",
              "</style>\n",
              "<table border=\"1\" class=\"dataframe\">\n",
              "  <thead>\n",
              "    <tr style=\"text-align: right;\">\n",
              "      <th></th>\n",
              "      <th>Date</th>\n",
              "      <th>Open</th>\n",
              "      <th>High</th>\n",
              "      <th>Low</th>\n",
              "      <th>Close</th>\n",
              "      <th>Adj Close</th>\n",
              "      <th>Volume</th>\n",
              "    </tr>\n",
              "  </thead>\n",
              "  <tbody>\n",
              "    <tr>\n",
              "      <th>2744</th>\n",
              "      <td>2021-01-14</td>\n",
              "      <td>1753.619995</td>\n",
              "      <td>1775.010010</td>\n",
              "      <td>1733.400024</td>\n",
              "      <td>1740.180054</td>\n",
              "      <td>1740.180054</td>\n",
              "      <td>1179500</td>\n",
              "    </tr>\n",
              "    <tr>\n",
              "      <th>2745</th>\n",
              "      <td>2021-01-15</td>\n",
              "      <td>1738.189941</td>\n",
              "      <td>1756.000000</td>\n",
              "      <td>1721.550049</td>\n",
              "      <td>1736.189941</td>\n",
              "      <td>1736.189941</td>\n",
              "      <td>1342200</td>\n",
              "    </tr>\n",
              "    <tr>\n",
              "      <th>2746</th>\n",
              "      <td>2021-01-19</td>\n",
              "      <td>1752.250000</td>\n",
              "      <td>1809.275024</td>\n",
              "      <td>1741.459961</td>\n",
              "      <td>1790.859985</td>\n",
              "      <td>1790.859985</td>\n",
              "      <td>1734600</td>\n",
              "    </tr>\n",
              "    <tr>\n",
              "      <th>2747</th>\n",
              "      <td>2021-01-20</td>\n",
              "      <td>1831.459961</td>\n",
              "      <td>1903.709961</td>\n",
              "      <td>1825.530029</td>\n",
              "      <td>1886.900024</td>\n",
              "      <td>1886.900024</td>\n",
              "      <td>2490300</td>\n",
              "    </tr>\n",
              "    <tr>\n",
              "      <th>2748</th>\n",
              "      <td>2021-01-21</td>\n",
              "      <td>1898.000000</td>\n",
              "      <td>1934.859985</td>\n",
              "      <td>1887.109985</td>\n",
              "      <td>1891.250000</td>\n",
              "      <td>1891.250000</td>\n",
              "      <td>2063900</td>\n",
              "    </tr>\n",
              "  </tbody>\n",
              "</table>\n",
              "</div>"
            ],
            "text/plain": [
              "            Date         Open         High  ...        Close    Adj Close   Volume\n",
              "2744  2021-01-14  1753.619995  1775.010010  ...  1740.180054  1740.180054  1179500\n",
              "2745  2021-01-15  1738.189941  1756.000000  ...  1736.189941  1736.189941  1342200\n",
              "2746  2021-01-19  1752.250000  1809.275024  ...  1790.859985  1790.859985  1734600\n",
              "2747  2021-01-20  1831.459961  1903.709961  ...  1886.900024  1886.900024  2490300\n",
              "2748  2021-01-21  1898.000000  1934.859985  ...  1891.250000  1891.250000  2063900\n",
              "\n",
              "[5 rows x 7 columns]"
            ]
          },
          "metadata": {
            "tags": []
          },
          "execution_count": 50
        }
      ]
    },
    {
      "cell_type": "code",
      "metadata": {
        "colab": {
          "base_uri": "https://localhost:8080/"
        },
        "id": "ebYNxbaDISxH",
        "outputId": "7e9b7052-a854-4342-b0d6-6c92d1baa23e"
      },
      "source": [
        "training_data.info()"
      ],
      "execution_count": 51,
      "outputs": [
        {
          "output_type": "stream",
          "text": [
            "<class 'pandas.core.frame.DataFrame'>\n",
            "RangeIndex: 2749 entries, 0 to 2748\n",
            "Data columns (total 7 columns):\n",
            " #   Column     Non-Null Count  Dtype  \n",
            "---  ------     --------------  -----  \n",
            " 0   Date       2749 non-null   object \n",
            " 1   Open       2749 non-null   float64\n",
            " 2   High       2749 non-null   float64\n",
            " 3   Low        2749 non-null   float64\n",
            " 4   Close      2749 non-null   float64\n",
            " 5   Adj Close  2749 non-null   float64\n",
            " 6   Volume     2749 non-null   int64  \n",
            "dtypes: float64(5), int64(1), object(1)\n",
            "memory usage: 150.5+ KB\n"
          ],
          "name": "stdout"
        }
      ]
    },
    {
      "cell_type": "code",
      "metadata": {
        "id": "2q4eHxRRIZVT"
      },
      "source": [
        "training_set=training_data.iloc[:,1:2].values"
      ],
      "execution_count": 52,
      "outputs": []
    },
    {
      "cell_type": "code",
      "metadata": {
        "colab": {
          "base_uri": "https://localhost:8080/"
        },
        "id": "2xytQmVAIrNo",
        "outputId": "0c530522-15db-4f41-adbd-8495e86df032"
      },
      "source": [
        "training_set.shape,training_data.shape"
      ],
      "execution_count": 53,
      "outputs": [
        {
          "output_type": "execute_result",
          "data": {
            "text/plain": [
              "((2749, 1), (2749, 7))"
            ]
          },
          "metadata": {
            "tags": []
          },
          "execution_count": 53
        }
      ]
    },
    {
      "cell_type": "code",
      "metadata": {
        "id": "GPMWW7kSIx_x"
      },
      "source": [
        "#Feature Scaling\n",
        "from sklearn.preprocessing import MinMaxScaler\n",
        "sc=MinMaxScaler(feature_range=(0,1))\n",
        "train_set_scaled=sc.fit_transform(training_set)"
      ],
      "execution_count": 54,
      "outputs": []
    },
    {
      "cell_type": "code",
      "metadata": {
        "id": "Krihp2XyJGE7"
      },
      "source": [
        "#Creating a data structure with 60 timesteps and 1 output\n",
        "x_train=[]\n",
        "y_train=[]\n",
        "\n",
        "for i in range(60,2749):\n",
        "  x_train.append(train_set_scaled[i-60:i,0])\n",
        "  y_train.append(train_set_scaled[i,0])\n",
        "\n",
        "#Converting X train and Y Train into numpy arrays\n",
        "x_train,y_train=np.array(x_train),np.array(y_train)"
      ],
      "execution_count": 55,
      "outputs": []
    },
    {
      "cell_type": "code",
      "metadata": {
        "colab": {
          "base_uri": "https://localhost:8080/"
        },
        "id": "0oMtMnN0KPBQ",
        "outputId": "e1a0d06e-dd5e-40b1-cf7b-7f7c50999da5"
      },
      "source": [
        "x_train"
      ],
      "execution_count": 56,
      "outputs": [
        {
          "output_type": "execute_result",
          "data": {
            "text/plain": [
              "array([[0.03233766, 0.0310476 , 0.02837256, ..., 0.02318859, 0.02119268,\n",
              "        0.02030595],\n",
              "       [0.0310476 , 0.02837256, 0.02633812, ..., 0.02119268, 0.02030595,\n",
              "        0.02126089],\n",
              "       [0.02837256, 0.02633812, 0.0264271 , ..., 0.02030595, 0.02126089,\n",
              "        0.01718606],\n",
              "       ...,\n",
              "       [0.80670529, 0.81844579, 0.83810443, ..., 0.9050881 , 0.9140423 ,\n",
              "        0.9048559 ],\n",
              "       [0.81844579, 0.83810443, 0.83747339, ..., 0.9140423 , 0.9048559 ,\n",
              "        0.91322666],\n",
              "       [0.83810443, 0.83747339, 0.82000563, ..., 0.9048559 , 0.91322666,\n",
              "        0.9603849 ]])"
            ]
          },
          "metadata": {
            "tags": []
          },
          "execution_count": 56
        }
      ]
    },
    {
      "cell_type": "code",
      "metadata": {
        "colab": {
          "base_uri": "https://localhost:8080/"
        },
        "id": "jpMqzMO6KRdO",
        "outputId": "3c9d00cb-d84c-4d08-dff3-145edb3c2090"
      },
      "source": [
        "y_train"
      ],
      "execution_count": 57,
      "outputs": [
        {
          "output_type": "execute_result",
          "data": {
            "text/plain": [
              "array([0.02126089, 0.01718606, 0.01386748, ..., 0.91322666, 0.9603849 ,\n",
              "       1.        ])"
            ]
          },
          "metadata": {
            "tags": []
          },
          "execution_count": 57
        }
      ]
    },
    {
      "cell_type": "code",
      "metadata": {
        "colab": {
          "base_uri": "https://localhost:8080/"
        },
        "id": "xApvAAXdKXzb",
        "outputId": "be445131-372f-43dc-c208-c16841d766c0"
      },
      "source": [
        "x_train.shape"
      ],
      "execution_count": 58,
      "outputs": [
        {
          "output_type": "execute_result",
          "data": {
            "text/plain": [
              "(2689, 60)"
            ]
          },
          "metadata": {
            "tags": []
          },
          "execution_count": 58
        }
      ]
    },
    {
      "cell_type": "code",
      "metadata": {
        "id": "4puELMJNKb-K"
      },
      "source": [
        "#Reshaping the dataset\n",
        "x_train=x_train.reshape(2689,60,1)"
      ],
      "execution_count": 59,
      "outputs": []
    },
    {
      "cell_type": "code",
      "metadata": {
        "colab": {
          "base_uri": "https://localhost:8080/"
        },
        "id": "weA0nqbvKksi",
        "outputId": "ec314e62-019d-48e0-ca62-28b29a8c0d73"
      },
      "source": [
        "x_train.shape"
      ],
      "execution_count": 60,
      "outputs": [
        {
          "output_type": "execute_result",
          "data": {
            "text/plain": [
              "(2689, 60, 1)"
            ]
          },
          "metadata": {
            "tags": []
          },
          "execution_count": 60
        }
      ]
    },
    {
      "cell_type": "code",
      "metadata": {
        "id": "opJFM5VTKnrg"
      },
      "source": [
        "#Building the LSTM layer\n",
        "\n",
        "#Initializing the RNN\n",
        "model=tf.keras.models.Sequential()"
      ],
      "execution_count": 61,
      "outputs": []
    },
    {
      "cell_type": "code",
      "metadata": {
        "id": "o4DJXl5VKJsn"
      },
      "source": [
        "#Adding the first LSTM Layer\n",
        "model.add(tf.keras.layers.LSTM(units=60,activation='relu',return_sequences=True,input_shape=(60,1)))"
      ],
      "execution_count": 62,
      "outputs": []
    },
    {
      "cell_type": "code",
      "metadata": {
        "id": "HOJ_56QaLKcu"
      },
      "source": [
        "#Adding a Dropout layer\n",
        "model.add(tf.keras.layers.Dropout(0.2))"
      ],
      "execution_count": 63,
      "outputs": []
    },
    {
      "cell_type": "code",
      "metadata": {
        "id": "r94nplptJ-5t"
      },
      "source": [
        "#Adding the second LSTM Layer\n",
        "model.add(tf.keras.layers.LSTM(units=60,activation='relu',return_sequences=True))\n",
        "\n",
        "#Adding a Dropout layer\n",
        "model.add(tf.keras.layers.Dropout(0.2))"
      ],
      "execution_count": 64,
      "outputs": []
    },
    {
      "cell_type": "code",
      "metadata": {
        "id": "nUGw4SAKLcM6"
      },
      "source": [
        "#Adding the third LSTM Layer\n",
        "model.add(tf.keras.layers.LSTM(units=80,activation='relu',return_sequences=True))\n",
        "\n",
        "#Adding a Dropout layer\n",
        "model.add(tf.keras.layers.Dropout(0.2))"
      ],
      "execution_count": 65,
      "outputs": []
    },
    {
      "cell_type": "code",
      "metadata": {
        "id": "PfXwAqbxLXz8"
      },
      "source": [
        "#Adding the fourth LSTM Layer\n",
        "model.add(tf.keras.layers.LSTM(units=100,activation='relu',return_sequences=True))\n",
        "\n",
        "#Adding a Dropout layer\n",
        "model.add(tf.keras.layers.Dropout(0.2))"
      ],
      "execution_count": 66,
      "outputs": []
    },
    {
      "cell_type": "code",
      "metadata": {
        "id": "J7oh5VsqIvcL"
      },
      "source": [
        "#Adding the fifth LSTM Layer\n",
        "model.add(tf.keras.layers.LSTM(units=120,activation='relu'))\n",
        "\n",
        "#Adding a Dropout layer\n",
        "model.add(tf.keras.layers.Dropout(0.2))"
      ],
      "execution_count": 67,
      "outputs": []
    },
    {
      "cell_type": "code",
      "metadata": {
        "id": "SYb2l7hBIteZ"
      },
      "source": [
        "#Output layer\n",
        "model.add(tf.keras.layers.Dense(units=1))"
      ],
      "execution_count": 68,
      "outputs": []
    },
    {
      "cell_type": "code",
      "metadata": {
        "colab": {
          "base_uri": "https://localhost:8080/"
        },
        "id": "MEbJCz-dIQ3o",
        "outputId": "6c6b2f08-efa1-43e8-c322-0ae0a105e19b"
      },
      "source": [
        "model.summary()"
      ],
      "execution_count": 69,
      "outputs": [
        {
          "output_type": "stream",
          "text": [
            "Model: \"sequential_2\"\n",
            "_________________________________________________________________\n",
            "Layer (type)                 Output Shape              Param #   \n",
            "=================================================================\n",
            "lstm_8 (LSTM)                (None, 60, 60)            14880     \n",
            "_________________________________________________________________\n",
            "dropout_6 (Dropout)          (None, 60, 60)            0         \n",
            "_________________________________________________________________\n",
            "lstm_9 (LSTM)                (None, 60, 60)            29040     \n",
            "_________________________________________________________________\n",
            "dropout_7 (Dropout)          (None, 60, 60)            0         \n",
            "_________________________________________________________________\n",
            "lstm_10 (LSTM)               (None, 60, 80)            45120     \n",
            "_________________________________________________________________\n",
            "dropout_8 (Dropout)          (None, 60, 80)            0         \n",
            "_________________________________________________________________\n",
            "lstm_11 (LSTM)               (None, 60, 100)           72400     \n",
            "_________________________________________________________________\n",
            "dropout_9 (Dropout)          (None, 60, 100)           0         \n",
            "_________________________________________________________________\n",
            "lstm_12 (LSTM)               (None, 120)               106080    \n",
            "_________________________________________________________________\n",
            "dropout_10 (Dropout)         (None, 120)               0         \n",
            "_________________________________________________________________\n",
            "dense (Dense)                (None, 1)                 121       \n",
            "=================================================================\n",
            "Total params: 267,641\n",
            "Trainable params: 267,641\n",
            "Non-trainable params: 0\n",
            "_________________________________________________________________\n"
          ],
          "name": "stdout"
        }
      ]
    },
    {
      "cell_type": "code",
      "metadata": {
        "id": "bWOhU2JZL-M1"
      },
      "source": [
        "#Compiling the model\n",
        "model.compile(optimizer='adam',loss='mean_squared_error')"
      ],
      "execution_count": 70,
      "outputs": []
    },
    {
      "cell_type": "code",
      "metadata": {
        "colab": {
          "base_uri": "https://localhost:8080/"
        },
        "id": "WmA6oDL-MOTP",
        "outputId": "fefaf448-5959-4863-9b94-88c550ea1bca"
      },
      "source": [
        "#Training the model\n",
        "model.fit(x_train,y_train,batch_size=32,epochs=100)"
      ],
      "execution_count": 71,
      "outputs": [
        {
          "output_type": "stream",
          "text": [
            "Epoch 1/100\n",
            "85/85 [==============================] - 23s 215ms/step - loss: 0.0491\n",
            "Epoch 2/100\n",
            "85/85 [==============================] - 19s 227ms/step - loss: 0.0031\n",
            "Epoch 3/100\n",
            "85/85 [==============================] - 19s 227ms/step - loss: 0.0028\n",
            "Epoch 4/100\n",
            "85/85 [==============================] - 19s 226ms/step - loss: 0.0027\n",
            "Epoch 5/100\n",
            "85/85 [==============================] - 19s 228ms/step - loss: 0.0022\n",
            "Epoch 6/100\n",
            "85/85 [==============================] - 19s 227ms/step - loss: 0.0018\n",
            "Epoch 7/100\n",
            "85/85 [==============================] - 19s 227ms/step - loss: 0.0030\n",
            "Epoch 8/100\n",
            "85/85 [==============================] - 19s 227ms/step - loss: 0.0022\n",
            "Epoch 9/100\n",
            "85/85 [==============================] - 19s 228ms/step - loss: 0.0019\n",
            "Epoch 10/100\n",
            "85/85 [==============================] - 19s 228ms/step - loss: 0.0032\n",
            "Epoch 11/100\n",
            "85/85 [==============================] - 19s 227ms/step - loss: 0.0019\n",
            "Epoch 12/100\n",
            "85/85 [==============================] - 19s 228ms/step - loss: 0.0020\n",
            "Epoch 13/100\n",
            "85/85 [==============================] - 19s 228ms/step - loss: 0.0018\n",
            "Epoch 14/100\n",
            "85/85 [==============================] - 19s 228ms/step - loss: 0.0021\n",
            "Epoch 15/100\n",
            "85/85 [==============================] - 19s 227ms/step - loss: 0.0014\n",
            "Epoch 16/100\n",
            "85/85 [==============================] - 19s 227ms/step - loss: 0.0017\n",
            "Epoch 17/100\n",
            "85/85 [==============================] - 19s 229ms/step - loss: 0.0017\n",
            "Epoch 18/100\n",
            "85/85 [==============================] - 20s 230ms/step - loss: 0.0014\n",
            "Epoch 19/100\n",
            "85/85 [==============================] - 20s 230ms/step - loss: 0.0016\n",
            "Epoch 20/100\n",
            "85/85 [==============================] - 19s 229ms/step - loss: 0.0015\n",
            "Epoch 21/100\n",
            "85/85 [==============================] - 19s 228ms/step - loss: 0.0016\n",
            "Epoch 22/100\n",
            "85/85 [==============================] - 19s 227ms/step - loss: 0.0014\n",
            "Epoch 23/100\n",
            "85/85 [==============================] - 19s 228ms/step - loss: 0.0014\n",
            "Epoch 24/100\n",
            "85/85 [==============================] - 19s 228ms/step - loss: 0.0016\n",
            "Epoch 25/100\n",
            "85/85 [==============================] - 19s 228ms/step - loss: 0.0015\n",
            "Epoch 26/100\n",
            "85/85 [==============================] - 19s 227ms/step - loss: 0.0013\n",
            "Epoch 27/100\n",
            "85/85 [==============================] - 19s 226ms/step - loss: 0.0011\n",
            "Epoch 28/100\n",
            "85/85 [==============================] - 19s 227ms/step - loss: 0.0014\n",
            "Epoch 29/100\n",
            "85/85 [==============================] - 19s 227ms/step - loss: 0.0014\n",
            "Epoch 30/100\n",
            "85/85 [==============================] - 19s 227ms/step - loss: 0.0010\n",
            "Epoch 31/100\n",
            "85/85 [==============================] - 19s 228ms/step - loss: 0.0015\n",
            "Epoch 32/100\n",
            "85/85 [==============================] - 19s 228ms/step - loss: 0.0013\n",
            "Epoch 33/100\n",
            "85/85 [==============================] - 19s 227ms/step - loss: 0.0011\n",
            "Epoch 34/100\n",
            "85/85 [==============================] - 19s 228ms/step - loss: 0.0012\n",
            "Epoch 35/100\n",
            "85/85 [==============================] - 19s 228ms/step - loss: 0.0012\n",
            "Epoch 36/100\n",
            "85/85 [==============================] - 19s 227ms/step - loss: 9.9813e-04\n",
            "Epoch 37/100\n",
            "85/85 [==============================] - 19s 228ms/step - loss: 0.0011\n",
            "Epoch 38/100\n",
            "85/85 [==============================] - 19s 229ms/step - loss: 0.0012\n",
            "Epoch 39/100\n",
            "85/85 [==============================] - 19s 225ms/step - loss: 0.0011\n",
            "Epoch 40/100\n",
            "85/85 [==============================] - 19s 227ms/step - loss: 0.0011\n",
            "Epoch 41/100\n",
            "85/85 [==============================] - 19s 229ms/step - loss: 9.0985e-04\n",
            "Epoch 42/100\n",
            "85/85 [==============================] - 19s 228ms/step - loss: 0.0010\n",
            "Epoch 43/100\n",
            "85/85 [==============================] - 19s 227ms/step - loss: 0.0011\n",
            "Epoch 44/100\n",
            "85/85 [==============================] - 19s 228ms/step - loss: 9.0405e-04\n",
            "Epoch 45/100\n",
            "85/85 [==============================] - 19s 228ms/step - loss: 8.6581e-04\n",
            "Epoch 46/100\n",
            "85/85 [==============================] - 19s 227ms/step - loss: 0.0018\n",
            "Epoch 47/100\n",
            "85/85 [==============================] - 19s 227ms/step - loss: 9.6273e-04\n",
            "Epoch 48/100\n",
            "85/85 [==============================] - 19s 228ms/step - loss: 0.0010\n",
            "Epoch 49/100\n",
            "85/85 [==============================] - 20s 231ms/step - loss: 8.7857e-04\n",
            "Epoch 50/100\n",
            "85/85 [==============================] - 20s 230ms/step - loss: 0.0029\n",
            "Epoch 51/100\n",
            "85/85 [==============================] - 20s 229ms/step - loss: 0.0011\n",
            "Epoch 52/100\n",
            "85/85 [==============================] - 19s 229ms/step - loss: 9.2074e-04\n",
            "Epoch 53/100\n",
            "85/85 [==============================] - 19s 229ms/step - loss: 8.9932e-04\n",
            "Epoch 54/100\n",
            "85/85 [==============================] - 20s 231ms/step - loss: 9.4741e-04\n",
            "Epoch 55/100\n",
            "85/85 [==============================] - 20s 230ms/step - loss: 0.0010\n",
            "Epoch 56/100\n",
            "85/85 [==============================] - 20s 231ms/step - loss: 8.5034e-04\n",
            "Epoch 57/100\n",
            "85/85 [==============================] - 20s 231ms/step - loss: 0.0010\n",
            "Epoch 58/100\n",
            "85/85 [==============================] - 20s 231ms/step - loss: 8.3690e-04\n",
            "Epoch 59/100\n",
            "85/85 [==============================] - 20s 231ms/step - loss: 0.0010\n",
            "Epoch 60/100\n",
            "85/85 [==============================] - 20s 230ms/step - loss: 9.2148e-04\n",
            "Epoch 61/100\n",
            "85/85 [==============================] - 20s 230ms/step - loss: 9.0245e-04\n",
            "Epoch 62/100\n",
            "85/85 [==============================] - 20s 230ms/step - loss: 0.0011\n",
            "Epoch 63/100\n",
            "85/85 [==============================] - 19s 229ms/step - loss: 9.5034e-04\n",
            "Epoch 64/100\n",
            "85/85 [==============================] - 20s 230ms/step - loss: 8.8036e-04\n",
            "Epoch 65/100\n",
            "85/85 [==============================] - 20s 233ms/step - loss: 8.8986e-04\n",
            "Epoch 66/100\n",
            "85/85 [==============================] - 20s 232ms/step - loss: 8.4501e-04\n",
            "Epoch 67/100\n",
            "85/85 [==============================] - 20s 231ms/step - loss: 9.2732e-04\n",
            "Epoch 68/100\n",
            "85/85 [==============================] - 20s 231ms/step - loss: 7.4726e-04\n",
            "Epoch 69/100\n",
            "85/85 [==============================] - 20s 230ms/step - loss: 9.4901e-04\n",
            "Epoch 70/100\n",
            "85/85 [==============================] - 20s 231ms/step - loss: 7.9818e-04\n",
            "Epoch 71/100\n",
            "85/85 [==============================] - 20s 231ms/step - loss: 8.7597e-04\n",
            "Epoch 72/100\n",
            "85/85 [==============================] - 20s 232ms/step - loss: 8.8672e-04\n",
            "Epoch 73/100\n",
            "85/85 [==============================] - 20s 232ms/step - loss: 9.3708e-04\n",
            "Epoch 74/100\n",
            "85/85 [==============================] - 20s 230ms/step - loss: 7.8879e-04\n",
            "Epoch 75/100\n",
            "85/85 [==============================] - 20s 230ms/step - loss: 0.0014\n",
            "Epoch 76/100\n",
            "85/85 [==============================] - 20s 231ms/step - loss: 9.0833e-04\n",
            "Epoch 77/100\n",
            "85/85 [==============================] - 20s 230ms/step - loss: 8.1140e-04\n",
            "Epoch 78/100\n",
            "85/85 [==============================] - 20s 229ms/step - loss: 8.5029e-04\n",
            "Epoch 79/100\n",
            "85/85 [==============================] - 19s 229ms/step - loss: 9.0400e-04\n",
            "Epoch 80/100\n",
            "85/85 [==============================] - 20s 230ms/step - loss: 9.2628e-04\n",
            "Epoch 81/100\n",
            "85/85 [==============================] - 20s 233ms/step - loss: 0.0012\n",
            "Epoch 82/100\n",
            "85/85 [==============================] - 20s 230ms/step - loss: 8.3129e-04\n",
            "Epoch 83/100\n",
            "85/85 [==============================] - 20s 231ms/step - loss: 9.1510e-04\n",
            "Epoch 84/100\n",
            "85/85 [==============================] - 20s 231ms/step - loss: 7.8404e-04\n",
            "Epoch 85/100\n",
            "85/85 [==============================] - 20s 231ms/step - loss: 0.0011\n",
            "Epoch 86/100\n",
            "85/85 [==============================] - 20s 230ms/step - loss: 9.4792e-04\n",
            "Epoch 87/100\n",
            "85/85 [==============================] - 20s 231ms/step - loss: 7.7058e-04\n",
            "Epoch 88/100\n",
            "85/85 [==============================] - 20s 230ms/step - loss: 0.0011\n",
            "Epoch 89/100\n",
            "85/85 [==============================] - 20s 231ms/step - loss: 7.1140e-04\n",
            "Epoch 90/100\n",
            "85/85 [==============================] - 20s 232ms/step - loss: 0.0011\n",
            "Epoch 91/100\n",
            "85/85 [==============================] - 20s 230ms/step - loss: 0.0010\n",
            "Epoch 92/100\n",
            "85/85 [==============================] - 20s 229ms/step - loss: 9.2964e-04\n",
            "Epoch 93/100\n",
            "85/85 [==============================] - 19s 229ms/step - loss: 8.0274e-04\n",
            "Epoch 94/100\n",
            "85/85 [==============================] - 20s 231ms/step - loss: 8.0972e-04\n",
            "Epoch 95/100\n",
            "85/85 [==============================] - 20s 232ms/step - loss: 8.3378e-04\n",
            "Epoch 96/100\n",
            "85/85 [==============================] - 20s 230ms/step - loss: 8.6057e-04\n",
            "Epoch 97/100\n",
            "85/85 [==============================] - 20s 234ms/step - loss: 7.8393e-04\n",
            "Epoch 98/100\n",
            "85/85 [==============================] - 20s 231ms/step - loss: 6.9395e-04\n",
            "Epoch 99/100\n",
            "85/85 [==============================] - 20s 232ms/step - loss: 8.1063e-04\n",
            "Epoch 100/100\n",
            "85/85 [==============================] - 20s 232ms/step - loss: 8.0159e-04\n"
          ],
          "name": "stdout"
        },
        {
          "output_type": "execute_result",
          "data": {
            "text/plain": [
              "<tensorflow.python.keras.callbacks.History at 0x7fb9cc8045f8>"
            ]
          },
          "metadata": {
            "tags": []
          },
          "execution_count": 71
        }
      ]
    },
    {
      "cell_type": "code",
      "metadata": {
        "colab": {
          "base_uri": "https://localhost:8080/"
        },
        "id": "Lyb8hNJCMc_V",
        "outputId": "42ffa242-a020-4b22-cef4-f943713f9415"
      },
      "source": [
        "#Making Predictions\n",
        "\n",
        "#Getting the real stock prices of the month Feb 2021\n",
        "test_data=pd.read_csv('/content/testing_set.csv')\n",
        "\n",
        "test_data.shape"
      ],
      "execution_count": 74,
      "outputs": [
        {
          "output_type": "execute_result",
          "data": {
            "text/plain": [
              "(20, 7)"
            ]
          },
          "metadata": {
            "tags": []
          },
          "execution_count": 74
        }
      ]
    },
    {
      "cell_type": "code",
      "metadata": {
        "colab": {
          "base_uri": "https://localhost:8080/"
        },
        "id": "9tNqjcUyIJ3s",
        "outputId": "f6f524a1-00e8-42d8-e504-215509057ed1"
      },
      "source": [
        "test_data.info()"
      ],
      "execution_count": 75,
      "outputs": [
        {
          "output_type": "stream",
          "text": [
            "<class 'pandas.core.frame.DataFrame'>\n",
            "RangeIndex: 20 entries, 0 to 19\n",
            "Data columns (total 7 columns):\n",
            " #   Column     Non-Null Count  Dtype  \n",
            "---  ------     --------------  -----  \n",
            " 0   Date       20 non-null     object \n",
            " 1   Open       20 non-null     float64\n",
            " 2   High       20 non-null     float64\n",
            " 3   Low        20 non-null     float64\n",
            " 4   Close      20 non-null     float64\n",
            " 5   Adj Close  20 non-null     float64\n",
            " 6   Volume     20 non-null     int64  \n",
            "dtypes: float64(5), int64(1), object(1)\n",
            "memory usage: 1.2+ KB\n"
          ],
          "name": "stdout"
        }
      ]
    },
    {
      "cell_type": "code",
      "metadata": {
        "id": "CrYfkZ1mVkcl"
      },
      "source": [
        "real_stock_price=test_data.iloc[:,1:2].values"
      ],
      "execution_count": 78,
      "outputs": []
    },
    {
      "cell_type": "code",
      "metadata": {
        "colab": {
          "base_uri": "https://localhost:8080/"
        },
        "id": "6haNUSw2VxEI",
        "outputId": "1377dd20-bd8d-4e8c-9bff-848516bc891d"
      },
      "source": [
        "real_stock_price.shape"
      ],
      "execution_count": 79,
      "outputs": [
        {
          "output_type": "execute_result",
          "data": {
            "text/plain": [
              "(20, 1)"
            ]
          },
          "metadata": {
            "tags": []
          },
          "execution_count": 79
        }
      ]
    },
    {
      "cell_type": "code",
      "metadata": {
        "id": "o5zT0eaUV3UJ"
      },
      "source": [
        "# Getting predicted stock prices of month Feb 2021\n",
        "\n",
        "#Concatinization\n",
        "dataset_total=pd.concat((training_data['Open'],test_data['Open']),axis=0)\n",
        "\n",
        "#Stock Prices from the previous 60 days for each day of Feb 2021\n",
        "inputs=dataset_total[len(dataset_total)-len(test_data)-60:].values\n",
        "\n",
        "#Reshaping the dataset \n",
        "inputs=inputs.reshape(-1,1)\n",
        "\n",
        "#Feature Scaling\n",
        "inputs=sc.transform(inputs)\n",
        "\n",
        "#Creating a test shape\n",
        "x_test=[]\n",
        "for i in range(60,80):\n",
        "  x_test.append(inputs[i-60:i,0])\n",
        "\n",
        "#Converting into numpy array\n",
        "x_test=np.array(x_test)\n",
        "\n",
        "#Converting into three dimension\n",
        "x_test=np.reshape(x_test,(x_test.shape[0],x_test.shape[1],1))\n",
        "\n",
        "#Gettiing the predicted stock prices\n",
        "pred_stock_price=model.predict(x_test)\n",
        "pred_stock_price=sc.inverse_transform(pred_stock_price)"
      ],
      "execution_count": 81,
      "outputs": []
    },
    {
      "cell_type": "code",
      "metadata": {
        "colab": {
          "base_uri": "https://localhost:8080/"
        },
        "id": "x6rmnGHJYeHF",
        "outputId": "5d910bb4-316c-48c6-d473-9256ef5b975b"
      },
      "source": [
        "print(pred_stock_price[5],print(real_stock_price[5]))"
      ],
      "execution_count": 83,
      "outputs": [
        {
          "output_type": "stream",
          "text": [
            "[1846.170044]\n",
            "[1797.5259] None\n"
          ],
          "name": "stdout"
        }
      ]
    },
    {
      "cell_type": "code",
      "metadata": {
        "colab": {
          "base_uri": "https://localhost:8080/",
          "height": 295
        },
        "id": "NA4BGgBzYsGY",
        "outputId": "600d9b9e-f99a-45d5-c3dd-1fa2c4cb3a66"
      },
      "source": [
        "# Visualising the results\n",
        "plt.plot(real_stock_price, color='red', label='Real Google Stock Price')\n",
        "plt.plot(pred_stock_price, color='blue', label='Predicted Google Stock Price')\n",
        "plt.title('Google Stock Price Prediction')\n",
        "plt.xlabel('Time')\n",
        "plt.ylabel('Google Stock Price')\n",
        "plt.legend()\n",
        "plt.show()"
      ],
      "execution_count": 85,
      "outputs": [
        {
          "output_type": "display_data",
          "data": {
            "image/png": "[encoded data removed]",
            "text/plain": [
              "<Figure size 432x288 with 1 Axes>"
            ]
          },
          "metadata": {
            "tags": [],
            "needs_background": "light"
          }
        }
      ]
    }
  ]
}